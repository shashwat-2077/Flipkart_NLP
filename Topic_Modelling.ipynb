{
  "nbformat": 4,
  "nbformat_minor": 0,
  "metadata": {
    "colab": {
      "name": "Topic_Modelling.ipynb",
      "provenance": [],
      "authorship_tag": "ABX9TyPBdD1nX0E6KmwyaL2JnrLs",
      "include_colab_link": true
    },
    "kernelspec": {
      "name": "python3",
      "display_name": "Python 3"
    },
    "language_info": {
      "name": "python"
    }
  },
  "cells": [
    {
      "cell_type": "markdown",
      "metadata": {
        "id": "view-in-github",
        "colab_type": "text"
      },
      "source": [
        "<a href=\"https://colab.research.google.com/github/shashwat-2077/Flipkart_NLP/blob/main/Topic_Modelling.ipynb\" target=\"_parent\"><img src=\"https://colab.research.google.com/assets/colab-badge.svg\" alt=\"Open In Colab\"/></a>"
      ]
    },
    {
      "cell_type": "markdown",
      "metadata": {
        "id": "rR2iG__97e5i"
      },
      "source": [
        "# Natural Language Processing\n",
        "\n",
        "Natural Language Processing, usually shortened as NLP, is a branch\n",
        "of artificial intelligence that deals with the interaction between\n",
        "computers and humans using the natural language. We will be using\n",
        "NLP to clean our reviews. A sentence or paragraph always contains\n",
        "words that don’t contribute much to understand the context. We\n",
        "need to scrape reviews of the product we want to analyze. We have\n",
        "already done this for you, now you just have to download and load\n",
        "the data."
      ]
    },
    {
      "cell_type": "markdown",
      "metadata": {
        "id": "JvyqLmoV8jX4"
      },
      "source": [
        "# Gather Data\n",
        "You can use any text data that you can get. We have\n",
        "scrapped reviews of a particular product.\n",
        "# Tokenization\n",
        "Tokenization is the process of breaking down sentence or\n",
        "paragraphs into smaller chunks of words called tokens"
      ]
    },
    {
      "cell_type": "markdown",
      "metadata": {
        "id": "3ywc1n7B8bUT"
      },
      "source": [
        "#Tokenization using Spacy\n"
      ]
    },
    {
      "cell_type": "code",
      "metadata": {
        "id": "OrH1cX_X7aoG"
      },
      "source": [
        "import spacy\n",
        "\n",
        "nlp = spacy.load('en_core_web_sm')"
      ],
      "execution_count": null,
      "outputs": []
    },
    {
      "cell_type": "code",
      "metadata": {
        "id": "uPM0pTZ27aqQ"
      },
      "source": [
        "text = \"Mobile phone is good but the camera is not.\""
      ],
      "execution_count": null,
      "outputs": []
    },
    {
      "cell_type": "code",
      "metadata": {
        "id": "iLtlgVda7atX"
      },
      "source": [
        "doc = nlp(text)"
      ],
      "execution_count": null,
      "outputs": []
    },
    {
      "cell_type": "code",
      "metadata": {
        "colab": {
          "base_uri": "https://localhost:8080/"
        },
        "id": "BYGuMWo17avt",
        "outputId": "670b6b25-649f-4afe-b9df-b7d85a6ffb8c"
      },
      "source": [
        "for i in doc:\n",
        "  print(i)"
      ],
      "execution_count": null,
      "outputs": [
        {
          "output_type": "stream",
          "text": [
            "Mobile\n",
            "phone\n",
            "is\n",
            "good\n",
            "but\n",
            "the\n",
            "camera\n",
            "is\n",
            "not\n",
            ".\n"
          ],
          "name": "stdout"
        }
      ]
    },
    {
      "cell_type": "code",
      "metadata": {
        "id": "FH9GeTj27mSw"
      },
      "source": [
        "#Stop Words Removal"
      ],
      "execution_count": null,
      "outputs": []
    },
    {
      "cell_type": "code",
      "metadata": {
        "id": "Q-gPwukg7ayv"
      },
      "source": [
        "from spacy.lang.en.stop_words import STOP_WORDS"
      ],
      "execution_count": null,
      "outputs": []
    },
    {
      "cell_type": "code",
      "metadata": {
        "colab": {
          "base_uri": "https://localhost:8080/"
        },
        "id": "OpYbH1AX7a1E",
        "outputId": "238b590f-e5ca-43f5-8eb5-f90c42d1a90e"
      },
      "source": [
        "len(STOP_WORDS)"
      ],
      "execution_count": null,
      "outputs": [
        {
          "output_type": "execute_result",
          "data": {
            "text/plain": [
              "326"
            ]
          },
          "metadata": {
            "tags": []
          },
          "execution_count": 36
        }
      ]
    },
    {
      "cell_type": "code",
      "metadata": {
        "colab": {
          "base_uri": "https://localhost:8080/"
        },
        "id": "Jo-zK1ID7a3j",
        "outputId": "11f833a6-7f0a-4aaf-9b05-c2907ba73698"
      },
      "source": [
        "print(STOP_WORDS)"
      ],
      "execution_count": null,
      "outputs": [
        {
          "output_type": "stream",
          "text": [
            "{'have', 'amongst', 'whether', 'as', 'us', 'who', 'thereby', 'noone', 'becoming', 'whole', 'since', 'would', 'whence', 'although', 'here', 'rather', 'before', 'all', 'such', 'see', 'whom', 'give', 'herein', 'never', 'until', 'on', 'always', 'by', 'may', 'hereby', 'say', 'our', 'about', 'still', 'below', 'hereafter', 'thus', 'himself', 'not', 'just', 'both', 'with', 'and', 'least', 'four', 'mine', 'take', 'ever', 'also', 'ten', 'into', 'ourselves', 'few', 'meanwhile', 'than', 'please', 'full', 'back', 'very', 'became', 'sometime', 'wherein', 'am', 'my', 'might', 'during', 'somewhere', 'were', 'that', 'its', '‘d', 'using', 'their', 'seem', '’re', 'but', 'unless', 'forty', 'no', 'what', 'other', 'another', 'further', 'to', 'yourself', 'same', 'off', 'across', 'five', 'per', 'whatever', 'part', 'call', 'eleven', 'due', 'are', 'except', 'nothing', 'next', 'in', 'really', 'when', 'name', '’m', 'those', 'whoever', 'his', 'seems', 'hence', 'where', 'enough', 'anyway', 'front', 'neither', 'first', 'most', 'once', 'many', 'namely', 'why', 'did', 'amount', 'now', 'does', 'top', 'this', 'every', 'above', 'while', 'at', 'alone', 'used', 'via', 'two', 'latterly', 'more', 'whereas', '’ll', 'been', 'keep', 'anyhow', \"'ll\", 'yourselves', 'everyone', 'should', '‘ve', 'seeming', 'own', 'from', 'somehow', 'through', 'hundred', 'themselves', 'thereafter', 'these', '‘ll', 'how', 'n’t', 'beforehand', 'be', 'throughout', 'beside', 'for', 'yet', 'already', 'anywhere', 'is', 'over', 'an', 'there', 'within', 'moreover', 'because', 'among', '’d', 'none', 'afterwards', '’s', 'she', 'her', 'put', 'doing', 'move', 'has', 'perhaps', 'being', 'or', 'i', 'either', 'fifty', 'whereafter', 'nor', 'ca', \"'d\", 'ours', 'upon', 'six', 'becomes', 'of', 'a', 'under', 'indeed', 'he', 'empty', 'too', 'one', 're', 'otherwise', 'get', 'less', 'him', 'thence', 'cannot', 'could', 'it', 'yours', 'had', 'often', 'nobody', 'against', 'everywhere', 'whereupon', 'must', 'any', 'behind', 'herself', 'we', 'everything', 'sometimes', 'toward', 'nowhere', 'the', 'eight', 'bottom', \"n't\", 'n‘t', 'whose', \"'s\", 'formerly', 'much', 'down', 'therefore', 'will', 'serious', 'elsewhere', 'they', 'third', 'make', 'others', 'several', 'which', 'almost', 'seemed', 'someone', \"'ve\", 'whenever', 'though', 'myself', 'can', 'thereupon', 'however', '’ve', 'fifteen', 'towards', 'twenty', 'become', 'so', 'again', 'beyond', 'was', 'hers', 'each', 'along', 'me', 'show', 'around', 'without', 'hereupon', 'various', 'thru', 'only', 'itself', 'last', 'anyone', 'latter', 'quite', 'nine', 'done', 'go', 'something', '‘re', 'anything', 'whither', 'mostly', \"'re\", 'your', 'onto', 'you', 'well', 'together', 'therein', 'former', 'up', 'even', 'side', 'three', 'if', 'made', 'between', 'after', 'else', 'nevertheless', 'do', 'out', '‘s', 'regarding', 'whereby', 'then', '‘m', 'twelve', \"'m\", 'them', 'wherever', 'some', 'sixty', 'besides'}\n"
          ],
          "name": "stdout"
        }
      ]
    },
    {
      "cell_type": "code",
      "metadata": {
        "colab": {
          "base_uri": "https://localhost:8080/"
        },
        "id": "Q6HGBkHh7a54",
        "outputId": "4ffe925d-44c2-496e-f62f-567733f2b076"
      },
      "source": [
        "for i in doc:\n",
        "  if i.is_stop !=True and i.is_punct != True:\n",
        "    print(i)"
      ],
      "execution_count": null,
      "outputs": [
        {
          "output_type": "stream",
          "text": [
            "Mobile\n",
            "phone\n",
            "good\n",
            "camera\n"
          ],
          "name": "stdout"
        }
      ]
    },
    {
      "cell_type": "markdown",
      "metadata": {
        "id": "wJUiraum7rOc"
      },
      "source": [
        "#Vectorization"
      ]
    },
    {
      "cell_type": "code",
      "metadata": {
        "id": "xTU4mE-l7a8P"
      },
      "source": [
        "from sklearn.feature_extraction.text import CountVectorizer"
      ],
      "execution_count": null,
      "outputs": []
    },
    {
      "cell_type": "code",
      "metadata": {
        "id": "rs0uUr2I7a-r"
      },
      "source": [
        "vectorizer = CountVectorizer()"
      ],
      "execution_count": null,
      "outputs": []
    },
    {
      "cell_type": "code",
      "metadata": {
        "id": "XT8l7wpK7bA9"
      },
      "source": [
        "sample_text = ['Julie loves John more than Linda loves John','Jane loves John more than Julie loves John']"
      ],
      "execution_count": null,
      "outputs": []
    },
    {
      "cell_type": "code",
      "metadata": {
        "colab": {
          "base_uri": "https://localhost:8080/"
        },
        "id": "pRVlxHa27bDC",
        "outputId": "c8ad26f2-5169-40c3-c297-5d55de5e6a30"
      },
      "source": [
        "vectorizer.fit(sample_text)"
      ],
      "execution_count": null,
      "outputs": [
        {
          "output_type": "execute_result",
          "data": {
            "text/plain": [
              "CountVectorizer(analyzer='word', binary=False, decode_error='strict',\n",
              "                dtype=<class 'numpy.int64'>, encoding='utf-8', input='content',\n",
              "                lowercase=True, max_df=1.0, max_features=None, min_df=1,\n",
              "                ngram_range=(1, 1), preprocessor=None, stop_words=None,\n",
              "                strip_accents=None, token_pattern='(?u)\\\\b\\\\w\\\\w+\\\\b',\n",
              "                tokenizer=None, vocabulary=None)"
            ]
          },
          "metadata": {
            "tags": []
          },
          "execution_count": 42
        }
      ]
    },
    {
      "cell_type": "code",
      "metadata": {
        "colab": {
          "base_uri": "https://localhost:8080/"
        },
        "id": "B_ssXP8s7vsx",
        "outputId": "9669dfa5-a03b-42ff-d570-1513e9cec5e2"
      },
      "source": [
        "print(vectorizer.vocabulary_)"
      ],
      "execution_count": null,
      "outputs": [
        {
          "output_type": "stream",
          "text": [
            "{'julie': 2, 'loves': 4, 'john': 1, 'more': 5, 'than': 6, 'linda': 3, 'jane': 0}\n"
          ],
          "name": "stdout"
        }
      ]
    },
    {
      "cell_type": "code",
      "metadata": {
        "id": "FeXHHq-E7vp8"
      },
      "source": [
        "vector = vectorizer.transform(['Julie loves John more than Linda loves John'])"
      ],
      "execution_count": null,
      "outputs": []
    },
    {
      "cell_type": "code",
      "metadata": {
        "colab": {
          "base_uri": "https://localhost:8080/"
        },
        "id": "gR4Qu8nG7vn3",
        "outputId": "0d90676d-9017-4f9e-8f92-d2fc7b3bf8e7"
      },
      "source": [
        "print(vector)"
      ],
      "execution_count": null,
      "outputs": [
        {
          "output_type": "stream",
          "text": [
            "  (0, 1)\t2\n",
            "  (0, 2)\t1\n",
            "  (0, 3)\t1\n",
            "  (0, 4)\t2\n",
            "  (0, 5)\t1\n",
            "  (0, 6)\t1\n"
          ],
          "name": "stdout"
        }
      ]
    },
    {
      "cell_type": "code",
      "metadata": {
        "id": "UC3Wy5yj7vmU"
      },
      "source": [
        "from sklearn.feature_extraction.text import TfidfVectorizer"
      ],
      "execution_count": null,
      "outputs": []
    },
    {
      "cell_type": "code",
      "metadata": {
        "id": "13IILG4z7vkt"
      },
      "source": [
        "tfvectorizer = TfidfVectorizer()"
      ],
      "execution_count": null,
      "outputs": []
    },
    {
      "cell_type": "code",
      "metadata": {
        "colab": {
          "base_uri": "https://localhost:8080/"
        },
        "id": "ce5mK_Vd7viu",
        "outputId": "14ac9c12-97d2-40ab-a1dc-10d70fd64d5c"
      },
      "source": [
        "tfvectorizer.fit(sample_text)"
      ],
      "execution_count": null,
      "outputs": [
        {
          "output_type": "execute_result",
          "data": {
            "text/plain": [
              "TfidfVectorizer(analyzer='word', binary=False, decode_error='strict',\n",
              "                dtype=<class 'numpy.float64'>, encoding='utf-8',\n",
              "                input='content', lowercase=True, max_df=1.0, max_features=None,\n",
              "                min_df=1, ngram_range=(1, 1), norm='l2', preprocessor=None,\n",
              "                smooth_idf=True, stop_words=None, strip_accents=None,\n",
              "                sublinear_tf=False, token_pattern='(?u)\\\\b\\\\w\\\\w+\\\\b',\n",
              "                tokenizer=None, use_idf=True, vocabulary=None)"
            ]
          },
          "metadata": {
            "tags": []
          },
          "execution_count": 48
        }
      ]
    },
    {
      "cell_type": "code",
      "metadata": {
        "colab": {
          "base_uri": "https://localhost:8080/"
        },
        "id": "_Xq2864M7vf1",
        "outputId": "b08ef64a-45df-4f28-cd1e-716ba9375988"
      },
      "source": [
        "tfvectorizer.vocabulary_"
      ],
      "execution_count": null,
      "outputs": [
        {
          "output_type": "execute_result",
          "data": {
            "text/plain": [
              "{'jane': 0,\n",
              " 'john': 1,\n",
              " 'julie': 2,\n",
              " 'linda': 3,\n",
              " 'loves': 4,\n",
              " 'more': 5,\n",
              " 'than': 6}"
            ]
          },
          "metadata": {
            "tags": []
          },
          "execution_count": 49
        }
      ]
    },
    {
      "cell_type": "code",
      "metadata": {
        "id": "iHEW1Euu70Dk"
      },
      "source": [
        "vector1 = tfvectorizer.transform(['Julie loves John more than Linda loves John'])"
      ],
      "execution_count": null,
      "outputs": []
    },
    {
      "cell_type": "code",
      "metadata": {
        "colab": {
          "base_uri": "https://localhost:8080/"
        },
        "id": "hDO3mEQp70Bg",
        "outputId": "d98156b8-baff-4ba7-f6b2-afc5dc145a12"
      },
      "source": [
        "print(vector1)"
      ],
      "execution_count": null,
      "outputs": [
        {
          "output_type": "stream",
          "text": [
            "  (0, 6)\t0.2776136126156931\n",
            "  (0, 5)\t0.2776136126156931\n",
            "  (0, 4)\t0.5552272252313862\n",
            "  (0, 3)\t0.39017624606721324\n",
            "  (0, 2)\t0.2776136126156931\n",
            "  (0, 1)\t0.5552272252313862\n"
          ],
          "name": "stdout"
        }
      ]
    },
    {
      "cell_type": "code",
      "metadata": {
        "colab": {
          "base_uri": "https://localhost:8080/"
        },
        "id": "snZV8atJ7z-C",
        "outputId": "b36b9838-c22f-4f8b-8ad5-c37a6b88f823"
      },
      "source": [
        "print(vector)"
      ],
      "execution_count": null,
      "outputs": [
        {
          "output_type": "stream",
          "text": [
            "  (0, 1)\t2\n",
            "  (0, 2)\t1\n",
            "  (0, 3)\t1\n",
            "  (0, 4)\t2\n",
            "  (0, 5)\t1\n",
            "  (0, 6)\t1\n"
          ],
          "name": "stdout"
        }
      ]
    },
    {
      "cell_type": "markdown",
      "metadata": {
        "id": "cHVejwio73z_"
      },
      "source": [
        "## Topic Modeling Using LDA"
      ]
    },
    {
      "cell_type": "code",
      "metadata": {
        "id": "iz_nI7au7z62"
      },
      "source": [
        "import spacy\n",
        "nlp = spacy.load('en_core_web_sm')\n",
        "\n",
        "import gensim\n",
        "\n",
        "import pandas as pd\n",
        "from gensim import corpora\n",
        "\n",
        "import re"
      ],
      "execution_count": null,
      "outputs": []
    },
    {
      "cell_type": "code",
      "metadata": {
        "id": "LinfJ5ME76Qb"
      },
      "source": [
        "nlp.vocab['star'].is_stop = True\n",
        "nlp.vocab['stars'].is_stop = True\n",
        "nlp.vocab['good'].is_stop = True"
      ],
      "execution_count": null,
      "outputs": []
    },
    {
      "cell_type": "code",
      "metadata": {
        "colab": {
          "base_uri": "https://localhost:8080/"
        },
        "id": "NpNDEG7V84Rj",
        "outputId": "961f6610-8da4-4ff8-ef67-54554c9bdd7c"
      },
      "source": [
        "from google.colab import drive\n",
        "drive.mount('/content/drive')"
      ],
      "execution_count": null,
      "outputs": [
        {
          "output_type": "stream",
          "text": [
            "Drive already mounted at /content/drive; to attempt to forcibly remount, call drive.mount(\"/content/drive\", force_remount=True).\n"
          ],
          "name": "stdout"
        }
      ]
    },
    {
      "cell_type": "code",
      "metadata": {
        "id": "wwCpEinP76Pc"
      },
      "source": [
        "#pandas\n",
        "reviews = pd.read_csv('/content/drive/MyDrive/Code/Flipkart/Flipkart_ratings.csv')"
      ],
      "execution_count": null,
      "outputs": []
    },
    {
      "cell_type": "code",
      "metadata": {
        "colab": {
          "base_uri": "https://localhost:8080/"
        },
        "id": "x2b2Ny6O76OT",
        "outputId": "9331b1a5-fbb5-4405-a7be-6ca7d9f46eee"
      },
      "source": [
        "reviews.shape"
      ],
      "execution_count": null,
      "outputs": [
        {
          "output_type": "execute_result",
          "data": {
            "text/plain": [
              "(4652, 13)"
            ]
          },
          "metadata": {
            "tags": []
          },
          "execution_count": 57
        }
      ]
    },
    {
      "cell_type": "code",
      "metadata": {
        "id": "xRTZJeKI76Mm"
      },
      "source": [
        "#pandas\n",
        "reviews['star_rating'] = reviews['star_rating'].apply(lambda x:1 if x > 4 else 0)"
      ],
      "execution_count": null,
      "outputs": []
    },
    {
      "cell_type": "code",
      "metadata": {
        "colab": {
          "base_uri": "https://localhost:8080/"
        },
        "id": "OA6CiI1g76Jo",
        "outputId": "fb75f132-7c20-4292-8847-1ad286e8f4e1"
      },
      "source": [
        "#pandas\n",
        "negative_sentiments = reviews[reviews['star_rating'] == 0]\n",
        "print(negative_sentiments.shape[0])"
      ],
      "execution_count": null,
      "outputs": [
        {
          "output_type": "stream",
          "text": [
            "2082\n"
          ],
          "name": "stdout"
        }
      ]
    },
    {
      "cell_type": "code",
      "metadata": {
        "colab": {
          "base_uri": "https://localhost:8080/"
        },
        "id": "kYA79Y2476HS",
        "outputId": "1de8061a-1c88-439f-dc94-7907b53e9557"
      },
      "source": [
        "#pandas\n",
        "negative_sentiments['Final review'] = negative_sentiments['review_headline'] + ' ' + negative_sentiments['review_body']\n",
        "negative_sentiments['Final review'] = negative_sentiments['Final review'].str.replace(\"[^a-zA-Z#]\", \" \")"
      ],
      "execution_count": null,
      "outputs": [
        {
          "output_type": "stream",
          "text": [
            "/usr/local/lib/python3.7/dist-packages/ipykernel_launcher.py:2: SettingWithCopyWarning: \n",
            "A value is trying to be set on a copy of a slice from a DataFrame.\n",
            "Try using .loc[row_indexer,col_indexer] = value instead\n",
            "\n",
            "See the caveats in the documentation: https://pandas.pydata.org/pandas-docs/stable/user_guide/indexing.html#returning-a-view-versus-a-copy\n",
            "  \n",
            "/usr/local/lib/python3.7/dist-packages/ipykernel_launcher.py:3: SettingWithCopyWarning: \n",
            "A value is trying to be set on a copy of a slice from a DataFrame.\n",
            "Try using .loc[row_indexer,col_indexer] = value instead\n",
            "\n",
            "See the caveats in the documentation: https://pandas.pydata.org/pandas-docs/stable/user_guide/indexing.html#returning-a-view-versus-a-copy\n",
            "  This is separate from the ipykernel package so we can avoid doing imports until\n"
          ],
          "name": "stderr"
        }
      ]
    },
    {
      "cell_type": "code",
      "metadata": {
        "id": "7L6pkY1s76D3"
      },
      "source": [
        "#pandas\n",
        "negative_sentiments = negative_sentiments.dropna()"
      ],
      "execution_count": null,
      "outputs": []
    },
    {
      "cell_type": "code",
      "metadata": {
        "colab": {
          "base_uri": "https://localhost:8080/"
        },
        "id": "zcekSbCN76B3",
        "outputId": "3dd644fa-80ce-45bc-b7b8-6e9410adccec"
      },
      "source": [
        "#tokenization, stop words removal\n",
        "negative_sentiments['Final Text'] = ''\n",
        "for i in range(negative_sentiments.shape[0]):\n",
        "    temp = []\n",
        "    document = nlp(negative_sentiments['Final review'].iloc[i].lower())\n",
        "    for j in document:\n",
        "        if j.is_stop!=True and j.is_punct!=True:\n",
        "            temp.append(j.lemma_)\n",
        "    negative_sentiments['Final Text'].iloc[i] = temp\n"
      ],
      "execution_count": null,
      "outputs": [
        {
          "output_type": "stream",
          "text": [
            "/usr/local/lib/python3.7/dist-packages/pandas/core/indexing.py:670: SettingWithCopyWarning: \n",
            "A value is trying to be set on a copy of a slice from a DataFrame\n",
            "\n",
            "See the caveats in the documentation: https://pandas.pydata.org/pandas-docs/stable/user_guide/indexing.html#returning-a-view-versus-a-copy\n",
            "  iloc._setitem_with_indexer(indexer, value)\n"
          ],
          "name": "stderr"
        }
      ]
    },
    {
      "cell_type": "code",
      "metadata": {
        "id": "4k0SrVVE76AX"
      },
      "source": [
        "#vectoriazation and topic modeling \n",
        "def topic_modelling(text):\n",
        "    dictionary = corpora.Dictionary(text)\n",
        "    doc_term_matrix = [dictionary.doc2bow(rev) for rev in text]\n",
        "    LDA = gensim.models.ldamodel.LdaModel\n",
        "    lda_model = LDA(corpus = doc_term_matrix, id2word = dictionary, \n",
        "                    num_topics = 1, random_state = 19, passes = 50)\n",
        "    temp = re.findall('[a-z]*',lda_model.print_topics()[0][1])\n",
        "    tags = [x for x in temp if x]\n",
        "    return tags"
      ],
      "execution_count": null,
      "outputs": []
    },
    {
      "cell_type": "code",
      "metadata": {
        "colab": {
          "base_uri": "https://localhost:8080/",
          "height": 196
        },
        "id": "2d16J05A75-b",
        "outputId": "6b49d943-b25b-4164-e3b1-8bd0e70b219c"
      },
      "source": [
        "#pandas\n",
        "negative_sentiments['Final Text'] = negative_sentiments['Final Text'].apply(lambda x:' '.join(x))\n",
        "negative_sentiments.head(2)"
      ],
      "execution_count": null,
      "outputs": [
        {
          "output_type": "execute_result",
          "data": {
            "text/html": [
              "<div>\n",
              "<style scoped>\n",
              "    .dataframe tbody tr th:only-of-type {\n",
              "        vertical-align: middle;\n",
              "    }\n",
              "\n",
              "    .dataframe tbody tr th {\n",
              "        vertical-align: top;\n",
              "    }\n",
              "\n",
              "    .dataframe thead th {\n",
              "        text-align: right;\n",
              "    }\n",
              "</style>\n",
              "<table border=\"1\" class=\"dataframe\">\n",
              "  <thead>\n",
              "    <tr style=\"text-align: right;\">\n",
              "      <th></th>\n",
              "      <th>marketplace</th>\n",
              "      <th>customer_id</th>\n",
              "      <th>review_id</th>\n",
              "      <th>product_title</th>\n",
              "      <th>product_category</th>\n",
              "      <th>star_rating</th>\n",
              "      <th>helpful_votes</th>\n",
              "      <th>total_votes</th>\n",
              "      <th>vine</th>\n",
              "      <th>verified_purchase</th>\n",
              "      <th>review_headline</th>\n",
              "      <th>review_body</th>\n",
              "      <th>review_date</th>\n",
              "      <th>Final review</th>\n",
              "      <th>Final Text</th>\n",
              "    </tr>\n",
              "  </thead>\n",
              "  <tbody>\n",
              "    <tr>\n",
              "      <th>0</th>\n",
              "      <td>US</td>\n",
              "      <td>41099022</td>\n",
              "      <td>R59VGL4HIPFDP</td>\n",
              "      <td>Foscam FI8910W Wireless/Wired Pan &amp; Tilt IP/Ne...</td>\n",
              "      <td>Camera</td>\n",
              "      <td>0</td>\n",
              "      <td>0</td>\n",
              "      <td>1</td>\n",
              "      <td>N</td>\n",
              "      <td>Y</td>\n",
              "      <td>One Star</td>\n",
              "      <td>garbage</td>\n",
              "      <td>31-08-2015</td>\n",
              "      <td>One Star garbage</td>\n",
              "      <td>garbage</td>\n",
              "    </tr>\n",
              "    <tr>\n",
              "      <th>1</th>\n",
              "      <td>US</td>\n",
              "      <td>15744366</td>\n",
              "      <td>R3GR0Z9Z4Z1295</td>\n",
              "      <td>Foscam FI8910W Wireless/Wired Pan &amp; Tilt IP/Ne...</td>\n",
              "      <td>Camera</td>\n",
              "      <td>0</td>\n",
              "      <td>0</td>\n",
              "      <td>0</td>\n",
              "      <td>N</td>\n",
              "      <td>N</td>\n",
              "      <td>Doesn't work as advertised</td>\n",
              "      <td>Didn't work as advertised, there was no sound ...</td>\n",
              "      <td>31-08-2015</td>\n",
              "      <td>Doesn t work as advertised Didn t work as adve...</td>\n",
              "      <td>doesn t work advertise didn t work advertise  ...</td>\n",
              "    </tr>\n",
              "  </tbody>\n",
              "</table>\n",
              "</div>"
            ],
            "text/plain": [
              "  marketplace  ...                                         Final Text\n",
              "0          US  ...                                            garbage\n",
              "1          US  ...  doesn t work advertise didn t work advertise  ...\n",
              "\n",
              "[2 rows x 15 columns]"
            ]
          },
          "metadata": {
            "tags": []
          },
          "execution_count": 64
        }
      ]
    },
    {
      "cell_type": "code",
      "metadata": {
        "colab": {
          "base_uri": "https://localhost:8080/",
          "height": 247
        },
        "id": "wLN3YeOY758D",
        "outputId": "d44e3e13-961d-43f3-8a8e-2aabf5329e67"
      },
      "source": [
        "#pandas\n",
        "negative_sentiments['Review Tags'] = negative_sentiments['Final Text'].apply(lambda x: topic_modelling([x.split(' ')]))\n",
        "negative_sentiments.head(2)"
      ],
      "execution_count": null,
      "outputs": [
        {
          "output_type": "execute_result",
          "data": {
            "text/html": [
              "<div>\n",
              "<style scoped>\n",
              "    .dataframe tbody tr th:only-of-type {\n",
              "        vertical-align: middle;\n",
              "    }\n",
              "\n",
              "    .dataframe tbody tr th {\n",
              "        vertical-align: top;\n",
              "    }\n",
              "\n",
              "    .dataframe thead th {\n",
              "        text-align: right;\n",
              "    }\n",
              "</style>\n",
              "<table border=\"1\" class=\"dataframe\">\n",
              "  <thead>\n",
              "    <tr style=\"text-align: right;\">\n",
              "      <th></th>\n",
              "      <th>marketplace</th>\n",
              "      <th>customer_id</th>\n",
              "      <th>review_id</th>\n",
              "      <th>product_title</th>\n",
              "      <th>product_category</th>\n",
              "      <th>star_rating</th>\n",
              "      <th>helpful_votes</th>\n",
              "      <th>total_votes</th>\n",
              "      <th>vine</th>\n",
              "      <th>verified_purchase</th>\n",
              "      <th>review_headline</th>\n",
              "      <th>review_body</th>\n",
              "      <th>review_date</th>\n",
              "      <th>Final review</th>\n",
              "      <th>Final Text</th>\n",
              "      <th>Review Tags</th>\n",
              "    </tr>\n",
              "  </thead>\n",
              "  <tbody>\n",
              "    <tr>\n",
              "      <th>0</th>\n",
              "      <td>US</td>\n",
              "      <td>41099022</td>\n",
              "      <td>R59VGL4HIPFDP</td>\n",
              "      <td>Foscam FI8910W Wireless/Wired Pan &amp; Tilt IP/Ne...</td>\n",
              "      <td>Camera</td>\n",
              "      <td>0</td>\n",
              "      <td>0</td>\n",
              "      <td>1</td>\n",
              "      <td>N</td>\n",
              "      <td>Y</td>\n",
              "      <td>One Star</td>\n",
              "      <td>garbage</td>\n",
              "      <td>31-08-2015</td>\n",
              "      <td>One Star garbage</td>\n",
              "      <td>garbage</td>\n",
              "      <td>[garbage]</td>\n",
              "    </tr>\n",
              "    <tr>\n",
              "      <th>1</th>\n",
              "      <td>US</td>\n",
              "      <td>15744366</td>\n",
              "      <td>R3GR0Z9Z4Z1295</td>\n",
              "      <td>Foscam FI8910W Wireless/Wired Pan &amp; Tilt IP/Ne...</td>\n",
              "      <td>Camera</td>\n",
              "      <td>0</td>\n",
              "      <td>0</td>\n",
              "      <td>0</td>\n",
              "      <td>N</td>\n",
              "      <td>N</td>\n",
              "      <td>Doesn't work as advertised</td>\n",
              "      <td>Didn't work as advertised, there was no sound ...</td>\n",
              "      <td>31-08-2015</td>\n",
              "      <td>Doesn t work as advertised Didn t work as adve...</td>\n",
              "      <td>doesn t work advertise didn t work advertise  ...</td>\n",
              "      <td>[t, advertise, work, didn, doesn, record, refu...</td>\n",
              "    </tr>\n",
              "  </tbody>\n",
              "</table>\n",
              "</div>"
            ],
            "text/plain": [
              "  marketplace  ...                                        Review Tags\n",
              "0          US  ...                                          [garbage]\n",
              "1          US  ...  [t, advertise, work, didn, doesn, record, refu...\n",
              "\n",
              "[2 rows x 16 columns]"
            ]
          },
          "metadata": {
            "tags": []
          },
          "execution_count": 65
        }
      ]
    },
    {
      "cell_type": "code",
      "metadata": {
        "colab": {
          "base_uri": "https://localhost:8080/"
        },
        "id": "KgMsJmlz8EZH",
        "outputId": "0c9e42f3-03ec-4959-9c08-6286d190f107"
      },
      "source": [
        "from functools import reduce\n",
        "\n",
        "final_list = reduce(lambda x,y :x+y ,negative_sentiments['Review Tags'].dropna().values.tolist())\n",
        "final_list"
      ],
      "execution_count": null,
      "outputs": [
        {
          "output_type": "execute_result",
          "data": {
            "text/plain": [
              "['garbage',\n",
              " 't',\n",
              " 'advertise',\n",
              " 'work',\n",
              " 'didn',\n",
              " 'doesn',\n",
              " 'record',\n",
              " 'refund',\n",
              " 'return',\n",
              " 'sound',\n",
              " 'average',\n",
              " 'complicate',\n",
              " 'setup',\n",
              " 'user',\n",
              " 'way',\n",
              " 'yrs',\n",
              " 'camera',\n",
              " 'die',\n",
              " 'save',\n",
              " 'remotely',\n",
              " 're',\n",
              " 'scan',\n",
              " 'savvy',\n",
              " 'robust',\n",
              " 'review',\n",
              " 'wonder',\n",
              " 'wifi',\n",
              " 'want',\n",
              " 't',\n",
              " 'stop',\n",
              " 'show',\n",
              " 'set',\n",
              " 'security',\n",
              " 'money',\n",
              " 'waste',\n",
              " 'unreliable',\n",
              " 'unbelievably',\n",
              " 'totally',\n",
              " 's',\n",
              " 'impossible',\n",
              " 'consistently',\n",
              " 'completely',\n",
              " 'ac',\n",
              " 'adapter',\n",
              " 'die',\n",
              " 'year',\n",
              " 'work',\n",
              " 'night',\n",
              " 'kid',\n",
              " 'monitor',\n",
              " 'wake',\n",
              " 'ok',\n",
              " 'single',\n",
              " 'aware',\n",
              " 'loudly',\n",
              " 'set',\n",
              " 'hour',\n",
              " 'device',\n",
              " 'attempt',\n",
              " 'want',\n",
              " 'silly',\n",
              " 'setup',\n",
              " 'simple',\n",
              " 'spend',\n",
              " 'remote',\n",
              " 'br',\n",
              " 'model',\n",
              " 't',\n",
              " 'buy',\n",
              " 'new',\n",
              " 'lack',\n",
              " 'hour',\n",
              " 'purchase',\n",
              " 'price',\n",
              " 'work',\n",
              " 'connect',\n",
              " 'didn',\n",
              " 'forget',\n",
              " 'send',\n",
              " 't',\n",
              " 'camera',\n",
              " 'work',\n",
              " 'foscam',\n",
              " 'die',\n",
              " 'longer',\n",
              " 'set',\n",
              " 'great',\n",
              " 't',\n",
              " 'don',\n",
              " 'set',\n",
              " 'pain',\n",
              " 'link',\n",
              " 'd',\n",
              " 'camera',\n",
              " 'product',\n",
              " 'return',\n",
              " 'plug',\n",
              " 'require',\n",
              " 'camera',\n",
              " 'light',\n",
              " 'reboot',\n",
              " 'sensor',\n",
              " 'freeze',\n",
              " 'update',\n",
              " 'bright',\n",
              " 'problem',\n",
              " 'recommend',\n",
              " 'set',\n",
              " 'time',\n",
              " 'spend',\n",
              " 'window',\n",
              " 'way',\n",
              " 'try',\n",
              " 'n',\n",
              " 'plug',\n",
              " 'return',\n",
              " 'end',\n",
              " 'software',\n",
              " 'high',\n",
              " 'set',\n",
              " 'able',\n",
              " 'home',\n",
              " 'interface',\n",
              " 'hardware',\n",
              " 'low',\n",
              " 't',\n",
              " 'cut',\n",
              " 'work',\n",
              " 'thing',\n",
              " 'think',\n",
              " 'saving',\n",
              " 'anymore',\n",
              " 'terrible',\n",
              " 'previous',\n",
              " 'access',\n",
              " 'set',\n",
              " 'reconnect',\n",
              " 'reboot',\n",
              " 'password',\n",
              " 'occasionally',\n",
              " 'note',\n",
              " 'netowrk',\n",
              " 'multiple',\n",
              " 'set',\n",
              " 'computer',\n",
              " 'finally',\n",
              " 'foscam',\n",
              " 'great',\n",
              " 'screen',\n",
              " 'share',\n",
              " 'work',\n",
              " 'complicated',\n",
              " 'buy',\n",
              " 'money',\n",
              " 'thank',\n",
              " 't',\n",
              " 'send',\n",
              " 'reset',\n",
              " 'poorly',\n",
              " 'headache',\n",
              " 'don',\n",
              " 'problem',\n",
              " 'foscam',\n",
              " 'work',\n",
              " 'tenvi',\n",
              " 'product',\n",
              " 'fix',\n",
              " 'choose',\n",
              " 'bad',\n",
              " 'choice',\n",
              " 'item',\n",
              " 'disappointed',\n",
              " 'product',\n",
              " 'play',\n",
              " 'plug',\n",
              " 'new',\n",
              " 'price',\n",
              " 'think',\n",
              " 'set',\n",
              " 'camera',\n",
              " 'br',\n",
              " 'swann',\n",
              " 'use',\n",
              " 'phone',\n",
              " 'monitor',\n",
              " 'great',\n",
              " 'foscam',\n",
              " 'wifi',\n",
              " 'suck',\n",
              " 'job',\n",
              " 'setup',\n",
              " 'product',\n",
              " 'play',\n",
              " 'great',\n",
              " 'difficult',\n",
              " 'router',\n",
              " 't',\n",
              " 'suggest',\n",
              " 'work',\n",
              " 'camera',\n",
              " 'alert',\n",
              " 'use',\n",
              " 'mail',\n",
              " 'garage',\n",
              " 'e',\n",
              " 'indoor',\n",
              " 'button',\n",
              " 'work',\n",
              " 'far',\n",
              " 'night',\n",
              " 'product',\n",
              " 'update',\n",
              " 'vision',\n",
              " 'computer',\n",
              " 'work',\n",
              " 'picture',\n",
              " 'wire',\n",
              " 'will',\n",
              " 'wifi',\n",
              " 'science',\n",
              " 'savvy',\n",
              " 'problem',\n",
              " 'camera',\n",
              " 'network',\n",
              " 't',\n",
              " 'switch',\n",
              " 'software',\n",
              " 'power',\n",
              " 'aquire',\n",
              " 'outage',\n",
              " 'connectivity',\n",
              " 'doesn',\n",
              " 'camera',\n",
              " 'help',\n",
              " 'morgan',\n",
              " 'set',\n",
              " 'terry',\n",
              " 'tremendously',\n",
              " 'camera',\n",
              " 'br',\n",
              " 'view',\n",
              " 'setup',\n",
              " 'video',\n",
              " 'set',\n",
              " 'site',\n",
              " 'purchase',\n",
              " 'home',\n",
              " 'light',\n",
              " 'make',\n",
              " 'camera',\n",
              " 'change',\n",
              " 'room',\n",
              " 'money',\n",
              " 'lot',\n",
              " 'ip',\n",
              " 'thing',\n",
              " 't',\n",
              " 'don',\n",
              " 'tell',\n",
              " 'job',\n",
              " 'decent',\n",
              " 'work',\n",
              " 'win',\n",
              " 'check',\n",
              " 'use',\n",
              " 'camera',\n",
              " 'tech',\n",
              " 'house',\n",
              " 'set',\n",
              " 't',\n",
              " 'view',\n",
              " 'install',\n",
              " 'friendly',\n",
              " 'user',\n",
              " 'br',\n",
              " 'warranty',\n",
              " 'camera',\n",
              " 'adapter',\n",
              " 'power',\n",
              " 'year',\n",
              " 'manufacturer',\n",
              " 's',\n",
              " 'replacement',\n",
              " 'br',\n",
              " 'video',\n",
              " 'hardware',\n",
              " 'user',\n",
              " 'software',\n",
              " 'design',\n",
              " 'set',\n",
              " 'decent',\n",
              " 'need',\n",
              " 'work',\n",
              " 'camera',\n",
              " 'need',\n",
              " 'web',\n",
              " 'great',\n",
              " 'foscam',\n",
              " 'nicely',\n",
              " 'screen',\n",
              " 'easy',\n",
              " 'camera',\n",
              " 'router',\n",
              " 'remotely',\n",
              " 'finally',\n",
              " 't',\n",
              " 'hassle',\n",
              " 'instruction',\n",
              " 'br',\n",
              " 'port',\n",
              " 'iris',\n",
              " 's',\n",
              " 'remotely',\n",
              " 'quick',\n",
              " 'nice',\n",
              " 'look',\n",
              " 'log',\n",
              " 'device',\n",
              " 'camera',\n",
              " 'ip',\n",
              " 'work',\n",
              " 'sprung',\n",
              " 'br',\n",
              " 'address',\n",
              " 'instead',\n",
              " 'hd',\n",
              " 's',\n",
              " 'great',\n",
              " 've',\n",
              " 'move',\n",
              " 'product',\n",
              " 'year',\n",
              " 'fantastic',\n",
              " 'unable',\n",
              " 'weight',\n",
              " 'setup',\n",
              " 'camera',\n",
              " 'product',\n",
              " 'camera',\n",
              " 'purchase',\n",
              " 'translation',\n",
              " 'properly',\n",
              " 'online',\n",
              " 'video',\n",
              " 'set',\n",
              " 'waste',\n",
              " 'br',\n",
              " 'set',\n",
              " 'able',\n",
              " 'setup',\n",
              " 'camera',\n",
              " 'friendly',\n",
              " 'definitely',\n",
              " 'basic',\n",
              " 'user',\n",
              " 'bad',\n",
              " 'buy',\n",
              " 'camera',\n",
              " 'hardware',\n",
              " 'money',\n",
              " 'o',\n",
              " 'problem',\n",
              " 'product',\n",
              " 'support',\n",
              " 'money',\n",
              " 'waste',\n",
              " 'call',\n",
              " 'connection',\n",
              " 'maintain',\n",
              " 's',\n",
              " 'set',\n",
              " 'setup',\n",
              " 'support',\n",
              " 'idea',\n",
              " 'support',\n",
              " 'nice',\n",
              " 'awful',\n",
              " 'tech',\n",
              " 'camera',\n",
              " 't',\n",
              " 'replacement',\n",
              " 'problem',\n",
              " 't',\n",
              " 'm',\n",
              " 'telephone',\n",
              " 'set',\n",
              " 'shoot',\n",
              " 'spend',\n",
              " 'step',\n",
              " 'point',\n",
              " 'support',\n",
              " 'view',\n",
              " 'user',\n",
              " 'friendly',\n",
              " 'setup',\n",
              " 'great',\n",
              " 'area',\n",
              " 'monitor',\n",
              " 'product',\n",
              " 'remote',\n",
              " 'camera',\n",
              " 'take',\n",
              " 'phone',\n",
              " 'work',\n",
              " 'br',\n",
              " 'procedure',\n",
              " 'price',\n",
              " 'room',\n",
              " 'realize',\n",
              " 'capture',\n",
              " 'not',\n",
              " 'sensitivity',\n",
              " 'right',\n",
              " 'product',\n",
              " 'pretty',\n",
              " 'motion',\n",
              " 'change',\n",
              " 'impossible',\n",
              " 'able',\n",
              " 'connect',\n",
              " 'difficult',\n",
              " 'instruction',\n",
              " 'use',\n",
              " 'odd',\n",
              " 'router',\n",
              " 'fine',\n",
              " 'release',\n",
              " 'wi',\n",
              " 'support',\n",
              " 'pain',\n",
              " 'maintain',\n",
              " 'mode',\n",
              " 'stop',\n",
              " 'week',\n",
              " 'work',\n",
              " 'useless',\n",
              " 'view',\n",
              " 'house',\n",
              " 'outside',\n",
              " 'stupid',\n",
              " 's',\n",
              " 'set',\n",
              " 'specific',\n",
              " 'spend',\n",
              " 'camera',\n",
              " 'support',\n",
              " 'setup',\n",
              " 'service',\n",
              " 'remote',\n",
              " 'name',\n",
              " 'work',\n",
              " 'john',\n",
              " 'help',\n",
              " 'wifi',\n",
              " 'work',\n",
              " 'disappoint',\n",
              " 'function',\n",
              " 'macbook',\n",
              " 'set',\n",
              " 'stay',\n",
              " 't',\n",
              " 'work',\n",
              " 'br',\n",
              " 't',\n",
              " 'win',\n",
              " 'computer',\n",
              " 'buy',\n",
              " 'brother',\n",
              " 'laptop',\n",
              " 'review',\n",
              " 'br',\n",
              " 'firmware',\n",
              " 'update',\n",
              " 'camera',\n",
              " 'w',\n",
              " 'version',\n",
              " 'fi',\n",
              " 'v',\n",
              " 'x',\n",
              " 'computer',\n",
              " 'friendly',\n",
              " 'interface',\n",
              " 'user',\n",
              " 'camera',\n",
              " 'existent',\n",
              " 'garbage',\n",
              " 'month',\n",
              " 'non',\n",
              " 'stop',\n",
              " 'support',\n",
              " 'work',\n",
              " 'camera',\n",
              " 'look',\n",
              " 'view',\n",
              " 'suck',\n",
              " 'overall',\n",
              " 'm',\n",
              " 'work',\n",
              " 'inside',\n",
              " 'house',\n",
              " 'video',\n",
              " 'setup',\n",
              " 'monitoring',\n",
              " 'allow',\n",
              " 'complicate',\n",
              " 'save',\n",
              " 'recording',\n",
              " 'user',\n",
              " 'sound',\n",
              " 'disappointed',\n",
              " 'stop',\n",
              " 'sound',\n",
              " 'work',\n",
              " 'cry',\n",
              " 'night',\n",
              " 't',\n",
              " 'couldn',\n",
              " 'daughter',\n",
              " 'hrs',\n",
              " 'wifi',\n",
              " 'reset',\n",
              " 'unit',\n",
              " 'hard',\n",
              " 'security',\n",
              " 'need',\n",
              " 'go',\n",
              " 'longer',\n",
              " 'aside',\n",
              " 'great',\n",
              " 'bit',\n",
              " 'install',\n",
              " 'pain',\n",
              " 'try',\n",
              " 'camera',\n",
              " 'power',\n",
              " 'problem',\n",
              " 'require',\n",
              " 'set',\n",
              " 'point',\n",
              " 'tilt',\n",
              " 'sequence',\n",
              " 'want',\n",
              " 'expect',\n",
              " 'tricky',\n",
              " 'shape',\n",
              " 'product',\n",
              " 'installation',\n",
              " 'arrive',\n",
              " 'use',\n",
              " 'tech',\n",
              " 'camera',\n",
              " 'camera',\n",
              " 'outside',\n",
              " 'set',\n",
              " 'spend',\n",
              " 'm',\n",
              " 't',\n",
              " 'revert',\n",
              " 'didn',\n",
              " 'crash',\n",
              " 't',\n",
              " 'work',\n",
              " 'couldn',\n",
              " 'set',\n",
              " 'wifi',\n",
              " 'tech',\n",
              " 'swann',\n",
              " 'camera',\n",
              " 'trust',\n",
              " 'cam',\n",
              " 'price',\n",
              " 'say',\n",
              " 'little',\n",
              " 'm',\n",
              " 'port',\n",
              " 'ip',\n",
              " 'remote',\n",
              " 'techie',\n",
              " 'connect',\n",
              " 'software',\n",
              " 'device',\n",
              " 'firmware',\n",
              " 'update',\n",
              " 'br',\n",
              " 'list',\n",
              " 'junk',\n",
              " 'look',\n",
              " 'difficult',\n",
              " 'product',\n",
              " 'set',\n",
              " 'br',\n",
              " 't',\n",
              " 's',\n",
              " 'hook',\n",
              " 'get',\n",
              " 'foscam',\n",
              " 'not',\n",
              " 'trash',\n",
              " 'u',\n",
              " 'remote',\n",
              " 'setup',\n",
              " 'set',\n",
              " 'network',\n",
              " 'house',\n",
              " 'product',\n",
              " 'order',\n",
              " 'location',\n",
              " 'life',\n",
              " 'hour',\n",
              " 'camera',\n",
              " 'software',\n",
              " 'set',\n",
              " 'great',\n",
              " 'work',\n",
              " 've',\n",
              " 'little',\n",
              " 'browser',\n",
              " 'tricky',\n",
              " 'junk',\n",
              " 'wireless',\n",
              " 'work',\n",
              " 'year',\n",
              " 'br',\n",
              " 'buy',\n",
              " 'camera',\n",
              " 'cost',\n",
              " 'don',\n",
              " 'good',\n",
              " 'half',\n",
              " 'quality',\n",
              " 't',\n",
              " 'anymore',\n",
              " 'break',\n",
              " 'month',\n",
              " 'online',\n",
              " 'transmit',\n",
              " 'use',\n",
              " 'video',\n",
              " 'awesome',\n",
              " 'camera',\n",
              " 'damage',\n",
              " 'great',\n",
              " 'purchase',\n",
              " 'time',\n",
              " 'beware',\n",
              " 'byer',\n",
              " 'equipment',\n",
              " 'money',\n",
              " 'piece',\n",
              " 'simply',\n",
              " 'total',\n",
              " 'waste',\n",
              " 'work',\n",
              " 'camera',\n",
              " 'forewarn',\n",
              " 'difficult',\n",
              " 'set',\n",
              " 'second',\n",
              " 'rocam',\n",
              " 'truly',\n",
              " 'ready',\n",
              " 'ridiculously',\n",
              " 'get',\n",
              " 'camera',\n",
              " 'finally',\n",
              " 'think',\n",
              " 'router',\n",
              " 'purchase',\n",
              " 'realize',\n",
              " 'return',\n",
              " 'room',\n",
              " 'connect',\n",
              " 'm',\n",
              " 'read',\n",
              " 'remotely',\n",
              " 'access',\n",
              " 'matter',\n",
              " 'purchase',\n",
              " 'port',\n",
              " 'people',\n",
              " 'br',\n",
              " 'set',\n",
              " 'want',\n",
              " 'work',\n",
              " 'read',\n",
              " 'camera',\n",
              " 'm',\n",
              " 'port',\n",
              " 'wow',\n",
              " 'product',\n",
              " 'value',\n",
              " 'try',\n",
              " 'tough',\n",
              " 'set',\n",
              " 'router',\n",
              " 'minimal',\n",
              " 'install',\n",
              " 'hour',\n",
              " 'fi',\n",
              " 'use',\n",
              " 't',\n",
              " 'micro',\n",
              " 'xxx',\n",
              " 'br',\n",
              " 'scandisk',\n",
              " 'amazon',\n",
              " 'disk',\n",
              " 'return',\n",
              " 'site',\n",
              " 'spend',\n",
              " 'system',\n",
              " 'try',\n",
              " 'simple',\n",
              " 'tutorial',\n",
              " 'wish',\n",
              " 'window',\n",
              " 'stop',\n",
              " 'work',\n",
              " 'camera',\n",
              " 'month',\n",
              " 'wifi',\n",
              " 'br',\n",
              " 'camera',\n",
              " 'password',\n",
              " 't',\n",
              " 'login',\n",
              " 'log',\n",
              " 'firmware',\n",
              " 'work',\n",
              " 'input',\n",
              " 'frame',\n",
              " 'rate',\n",
              " 'stream',\n",
              " 'poor',\n",
              " 'plugin',\n",
              " 'ispy',\n",
              " 'ie',\n",
              " 'fps',\n",
              " 'capture',\n",
              " 'awful',\n",
              " 'dropcam',\n",
              " 'product',\n",
              " 'spring',\n",
              " 'pretty',\n",
              " 'type',\n",
              " 'sure',\n",
              " 'simple',\n",
              " 'skill',\n",
              " 'start',\n",
              " 'step',\n",
              " 'suburb',\n",
              " 'serve',\n",
              " 'camera',\n",
              " 'set',\n",
              " 'like',\n",
              " 'br',\n",
              " 'pretty',\n",
              " 'twice',\n",
              " 'technical',\n",
              " 'support',\n",
              " 'give',\n",
              " 'application',\n",
              " 'kind',\n",
              " 'suck',\n",
              " 'work',\n",
              " 'setting',\n",
              " 'camera',\n",
              " 'figure',\n",
              " 'hour',\n",
              " 't',\n",
              " 'set',\n",
              " 'product',\n",
              " 'quick',\n",
              " 'easy',\n",
              " 'thing',\n",
              " 'better',\n",
              " 'camera',\n",
              " 'complicate',\n",
              " 'future',\n",
              " 'invent',\n",
              " 'offer',\n",
              " 'setup',\n",
              " 'use',\n",
              " 'br',\n",
              " 'use',\n",
              " 'love',\n",
              " 'work',\n",
              " 'need',\n",
              " 'like',\n",
              " 'basic',\n",
              " 'baby',\n",
              " 'app',\n",
              " 'help',\n",
              " 'installation',\n",
              " 'instruction',\n",
              " 'pain',\n",
              " 'picture',\n",
              " 'set',\n",
              " 'work',\n",
              " 'belkin',\n",
              " 'camera',\n",
              " 'compare',\n",
              " 'complicated',\n",
              " 'dlink',\n",
              " 'remote',\n",
              " 'set',\n",
              " 'viewing',\n",
              " 'way',\n",
              " 'product',\n",
              " 'app',\n",
              " 'setup',\n",
              " 'money',\n",
              " 'set',\n",
              " 'name',\n",
              " 'instruction',\n",
              " 'background',\n",
              " 'save',\n",
              " 'br',\n",
              " 't',\n",
              " 'camera',\n",
              " 's',\n",
              " 'nope',\n",
              " 'phone',\n",
              " 'product',\n",
              " 'order',\n",
              " 'outside',\n",
              " 'br',\n",
              " 'image',\n",
              " 'send',\n",
              " 'foscam',\n",
              " 'ftp',\n",
              " 'email',\n",
              " 'tenvi',\n",
              " 'set',\n",
              " 'way',\n",
              " 'br',\n",
              " 'lot',\n",
              " 'help',\n",
              " 'item',\n",
              " 'perfect',\n",
              " 'stop',\n",
              " 'dog',\n",
              " 'tube',\n",
              " 'setup',\n",
              " 'technical',\n",
              " 'try',\n",
              " 'work',\n",
              " 'router',\n",
              " 'save',\n",
              " 'skip',\n",
              " 'tech',\n",
              " 'port',\n",
              " 'waste',\n",
              " 'work',\n",
              " 'camera',\n",
              " 'day',\n",
              " 'receive',\n",
              " 'br',\n",
              " 'return',\n",
              " 'sense',\n",
              " 't',\n",
              " 'quit',\n",
              " 'glitchy',\n",
              " 'send',\n",
              " 'app',\n",
              " 'waste',\n",
              " 'try',\n",
              " 'money',\n",
              " 'camera',\n",
              " 'apparently',\n",
              " 'reprogram',\n",
              " 'security',\n",
              " 't',\n",
              " 'firmware',\n",
              " 'horrible',\n",
              " 'say',\n",
              " 'web',\n",
              " 'troubleshoot',\n",
              " 'tech',\n",
              " 'support',\n",
              " 'solve',\n",
              " 'keep',\n",
              " 't',\n",
              " 'camera',\n",
              " 'say',\n",
              " 'easy',\n",
              " 'product',\n",
              " 'hook',\n",
              " 'work',\n",
              " 'don',\n",
              " 'bring',\n",
              " 'br',\n",
              " 's',\n",
              " 'set',\n",
              " 'have',\n",
              " 'return',\n",
              " 'know',\n",
              " 'crazy',\n",
              " 'room',\n",
              " 'glorify',\n",
              " 'connect',\n",
              " 'complicated',\n",
              " 'month',\n",
              " 'piece',\n",
              " 'stop',\n",
              " 't',\n",
              " 'trash',\n",
              " 'great',\n",
              " 'point',\n",
              " 'led',\n",
              " 'camera',\n",
              " 'setup',\n",
              " 'zoneminder',\n",
              " 'power',\n",
              " 's',\n",
              " 'work',\n",
              " 'camera',\n",
              " 'setup',\n",
              " 'bad',\n",
              " 'great',\n",
              " 'instruction',\n",
              " 'suck',\n",
              " 'quality',\n",
              " 'pretty',\n",
              " 'firmware',\n",
              " 'work',\n",
              " 'stop',\n",
              " 'thing',\n",
              " 'speaker',\n",
              " 'use',\n",
              " 'unable',\n",
              " 'camera',\n",
              " 't',\n",
              " 'reason',\n",
              " 'thing',\n",
              " 'money',\n",
              " 'spend',\n",
              " 'record',\n",
              " 'extra',\n",
              " 'house',\n",
              " 'view',\n",
              " 'work',\n",
              " 'camera',\n",
              " 'computer',\n",
              " 'fine',\n",
              " 'need',\n",
              " 'software',\n",
              " 'useless',\n",
              " 'wirelessly',\n",
              " 'great',\n",
              " 'support',\n",
              " 'set',\n",
              " 'morgan',\n",
              " 'terry',\n",
              " 'customer',\n",
              " 'expect',\n",
              " 'recommend',\n",
              " 'br',\n",
              " 'experience',\n",
              " 'satisfactory',\n",
              " 'great',\n",
              " 'rate',\n",
              " 'interact',\n",
              " 'support',\n",
              " 'brandon',\n",
              " 'recommend',\n",
              " 'customer',\n",
              " 'need',\n",
              " 'work',\n",
              " 'sure',\n",
              " 'setup',\n",
              " 'old',\n",
              " 'year',\n",
              " 'complicated',\n",
              " 'camera',\n",
              " 'fine',\n",
              " 'app',\n",
              " 'bad',\n",
              " 'hardware',\n",
              " 'software',\n",
              " 'support',\n",
              " 'terrible',\n",
              " 'light',\n",
              " 'cam',\n",
              " 'come',\n",
              " 'get',\n",
              " 'nd',\n",
              " 'pass',\n",
              " 'lens',\n",
              " 'not',\n",
              " 'horrible',\n",
              " 'tenvi',\n",
              " 'complicated',\n",
              " 'setup',\n",
              " 'specialty',\n",
              " 'return',\n",
              " 'review',\n",
              " 'router',\n",
              " 'programmer',\n",
              " 'way',\n",
              " ...]"
            ]
          },
          "metadata": {
            "tags": []
          },
          "execution_count": 66
        }
      ]
    },
    {
      "cell_type": "code",
      "metadata": {
        "id": "7yyJTTIZ8EUF"
      },
      "source": [
        "dic = {}\n",
        "for i in final_list:\n",
        "    if i not in dic.keys():\n",
        "        dic[i] = 1\n",
        "    else:\n",
        "        dic[i] = dic[i] + 1"
      ],
      "execution_count": null,
      "outputs": []
    },
    {
      "cell_type": "code",
      "metadata": {
        "colab": {
          "base_uri": "https://localhost:8080/"
        },
        "id": "tEgQeq2w8EQm",
        "outputId": "9eb5ec70-3441-40db-9312-da341fe4097d"
      },
      "source": [
        "#pandas\n",
        "df = pd.Series(dic)\n",
        "df = df.drop(['t','s'])\n",
        "df = df.sort_values(ascending = False)\n",
        "df.head(20)"
      ],
      "execution_count": null,
      "outputs": [
        {
          "output_type": "execute_result",
          "data": {
            "text/plain": [
              "camera      1009\n",
              "work         642\n",
              "br           622\n",
              "set          489\n",
              "support      304\n",
              "great        269\n",
              "foscam       269\n",
              "setup        233\n",
              "product      191\n",
              "use          176\n",
              "time         166\n",
              "quality      152\n",
              "tech         149\n",
              "try          145\n",
              "router       137\n",
              "software     137\n",
              "wireless     136\n",
              "price        130\n",
              "buy          130\n",
              "return       122\n",
              "dtype: int64"
            ]
          },
          "metadata": {
            "tags": []
          },
          "execution_count": 68
        }
      ]
    },
    {
      "cell_type": "code",
      "metadata": {
        "id": "l4c0xxoA8EOl"
      },
      "source": [
        "#data visualization, matplotlib & seaborn\n",
        "import matplotlib.pyplot as plt\n",
        "import seaborn as sns"
      ],
      "execution_count": null,
      "outputs": []
    },
    {
      "cell_type": "code",
      "metadata": {
        "colab": {
          "base_uri": "https://localhost:8080/",
          "height": 570
        },
        "id": "r_qswLus8H91",
        "outputId": "dd432043-0d41-4539-8012-a832f9986484"
      },
      "source": [
        "#data visualization, matplotlib & seaborn\n",
        "fig = plt.figure(figsize = (10,8))\n",
        "sns.barplot(df.head(20).index.values.tolist(), df.head(20).values.tolist())\n",
        "plt.xticks(rotation = 90)\n",
        "plt.show()"
      ],
      "execution_count": null,
      "outputs": [
        {
          "output_type": "stream",
          "text": [
            "/usr/local/lib/python3.7/dist-packages/seaborn/_decorators.py:43: FutureWarning: Pass the following variables as keyword args: x, y. From version 0.12, the only valid positional argument will be `data`, and passing other arguments without an explicit keyword will result in an error or misinterpretation.\n",
            "  FutureWarning\n"
          ],
          "name": "stderr"
        },
        {
          "output_type": "display_data",
          "data": {
            "image/png": "[encoded data removed]",
            "text/plain": [
              "<Figure size 720x576 with 1 Axes>"
            ]
          },
          "metadata": {
            "tags": [],
            "needs_background": "light"
          }
        }
      ]
    },
    {
      "cell_type": "markdown",
      "metadata": {
        "id": "weykWSXQ_elB"
      },
      "source": [
        "# Drive Link\n",
        "\n",
        "https://drive.google.com/drive/folders/1AWvlENzeXDUOAk5n_UZscLChfzueNpx8?usp=sharing"
      ]
    }
  ]
}